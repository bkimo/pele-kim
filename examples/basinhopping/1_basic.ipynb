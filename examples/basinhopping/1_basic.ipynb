{
 "metadata": {
  "name": "1_basic"
 }, 
 "nbformat": 2, 
 "worksheets": [
  {
   "cells": [
    {
     "cell_type": "markdown", 
     "source": [
      "Simple basin-hopping"
     ]
    }, 
    {
     "cell_type": "markdown", 
     "source": [
      "define the system and the number of atoms"
     ]
    }, 
    {
     "cell_type": "code", 
     "collapsed": true, 
     "input": [
      "from pele.systems import LJCluster", 
      "", 
      "natoms = 16", 
      "system = LJCluster(natoms)"
     ], 
     "language": "python", 
     "outputs": [], 
     "prompt_number": 16
    }, 
    {
     "cell_type": "markdown", 
     "source": [
      "create an sqlite database to store the minima found"
     ]
    }, 
    {
     "cell_type": "code", 
     "collapsed": false, 
     "input": [
      "db = system.create_database()"
     ], 
     "language": "python", 
     "outputs": [], 
     "prompt_number": 17
    }, 
    {
     "cell_type": "markdown", 
     "source": [
      "Use the system class to create the basinhopping object."
     ]
    }, 
    {
     "cell_type": "code", 
     "collapsed": false, 
     "input": [
      "bh = system.get_basinhopping(database=db, outstream=None)", 
      "niter = 100", 
      "bh.run(niter)"
     ], 
     "language": "python", 
     "outputs": [], 
     "prompt_number": 28
    }, 
    {
     "cell_type": "code", 
     "collapsed": false, 
     "input": [
      "print \"the lowest energy found after\", niter, \" basinhopping steps is\", db.minima()[0].energy", 
      "print \"\""
     ], 
     "language": "python", 
     "outputs": [
      {
       "output_type": "stream", 
       "stream": "stdout", 
       "text": [
        "the lowest energy found after 100  basinhopping steps is -56.8157417804", 
        ""
       ]
      }
     ], 
     "prompt_number": 23
    }, 
    {
     "cell_type": "markdown", 
     "source": [
      "do some post processing "
     ]
    }, 
    {
     "cell_type": "code", 
     "collapsed": false, 
     "input": [
      "import matplotlib.pyplot as plt", 
      "ids = [m._id for m in db.minima()]", 
      "energies = [m.energy for m in db.minima()]", 
      "plt.plot(ids, energies, '.')", 
      "plt.ylabel(\"minima energy\")", 
      "plt.xlabel(\"minima ID: order the minima were found\")"
     ], 
     "language": "python", 
     "outputs": [
      {
       "output_type": "pyout", 
       "prompt_number": 27, 
       "text": [
        "&lt;matplotlib.text.Text at 0x86bd8d0&gt;"
       ]
      }, 
      {
       "output_type": "display_data", 
       "png": "[encoded data removed]"
      }
     ], 
     "prompt_number": 27
    }, 
    {
     "cell_type": "code", 
     "collapsed": false, 
     "input": [
      "# some visualization", 
      "try:", 
      "    import pele.utils.pymolwrapper as pym", 
      "    pym.start()", 
      "    pym.draw_spheres(bh.coords, \"A\", 1)", 
      "except:", 
      "    print \"Could not draw using pymol, skipping this step\""
     ], 
     "language": "python", 
     "outputs": [
      {
       "output_type": "stream", 
       "stream": "stdout", 
       "text": [
        "Could not draw using pymol, skipping this step"
       ]
      }
     ], 
     "prompt_number": 25
    }, 
    {
     "cell_type": "code", 
     "collapsed": true, 
     "input": [], 
     "language": "python", 
     "outputs": [], 
     "prompt_number": "&nbsp;"
    }
   ]
  }
 ]
}