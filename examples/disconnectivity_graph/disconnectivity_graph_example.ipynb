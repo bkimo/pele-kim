{
 "metadata": {
  "name": "disconnectivity_graph_example"
 }, 
 "nbformat": 2, 
 "worksheets": [
  {
   "cells": [
    {
     "cell_type": "markdown", 
     "source": [
      "example for how to use double ended connect to connect the minima in an existing database", 
      "", 
      "we will use as an example system the Lennard-Jones cluster with a small number of atoms.", 
      "Since we don't already have a database, for this example we'll build a small one using", 
      "basinhopping"
     ]
    }, 
    {
     "cell_type": "code", 
     "collapsed": true, 
     "input": [
      "from pele.systems import LJCluster", 
      "from pele.utils.disconnectivity_graph import DisconnectivityGraph, database2graph", 
      "", 
      "natoms = 16", 
      "system = LJCluster(natoms)"
     ], 
     "language": "python", 
     "outputs": [], 
     "prompt_number": 1
    }, 
    {
     "cell_type": "markdown", 
     "source": [
      "create the database where the minima and transition states will be stored"
     ]
    }, 
    {
     "cell_type": "code", 
     "collapsed": true, 
     "input": [
      "db = system.create_database()"
     ], 
     "language": "python", 
     "outputs": [], 
     "prompt_number": 2
    }, 
    {
     "cell_type": "markdown", 
     "source": [
      "use basinhopping to build a database of minima"
     ]
    }, 
    {
     "cell_type": "code", 
     "collapsed": false, 
     "input": [
      "bh = system.get_basinhopping(database=db, outstream=None)", 
      "bh.run(100)"
     ], 
     "language": "python", 
     "outputs": [], 
     "prompt_number": 3
    }, 
    {
     "cell_type": "markdown", 
     "source": [
      "use the logging module to turn of status printing for the connect runs"
     ]
    }, 
    {
     "cell_type": "code", 
     "collapsed": false, 
     "input": [
      "import logging", 
      "logger = logging.getLogger(\"pele.connect\")", 
      "logger.setLevel(\"WARNING\")"
     ], 
     "language": "python", 
     "outputs": [], 
     "prompt_number": 10
    }, 
    {
     "cell_type": "markdown", 
     "source": [
      "do a bunch of double ended connect runs to find transition states connecting the minima"
     ]
    }, 
    {
     "cell_type": "code", 
     "collapsed": false, 
     "input": [
      "from pele.landscape import ConnectManager", 
      "manager = ConnectManager(db)", 
      "for i in xrange(20):", 
      "    min1, min2 = manager.get_connect_job()", 
      "    connect = system.get_double_ended_connect(min1, min2, db, verbosity=-1)", 
      "    connect.connect()"
     ], 
     "language": "python", 
     "outputs": [
      {
       "output_type": "stream", 
       "stream": "stdout", 
       "text": [
        "sending a random connect job 16 2", 
        "sending a random connect job 7 2", 
        "stepping off the transition state resulted in twice the same minima 7"
       ]
      }, 
      {
       "output_type": "stream", 
       "stream": "stdout", 
       "text": [
        "sending a random connect job 21 23", 
        "sending a random connect job 37 29", 
        "sending a random connect job 31 19", 
        "sending a random connect job"
       ]
      }, 
      {
       "output_type": "stream", 
       "stream": "stdout", 
       "text": [
        " 41 8", 
        "sending a random connect job 10 7", 
        "sending a random connect job 41 37", 
        "sending a random connect job 24 13", 
        "stepping off the transition state resulted in twice the same minima 7"
       ]
      }, 
      {
       "output_type": "stream", 
       "stream": "stdout", 
       "text": [
        "sending a random connect job 44 41", 
        "sending a random connect job 3 7", 
        "sending a random connect job"
       ]
      }, 
      {
       "output_type": "stream", 
       "stream": "stdout", 
       "text": [
        " 5 34", 
        "sending a random connect job 25 19", 
        "sending a random connect job 25 30", 
        "sending a random connect job 28 18", 
        "sending a random connect job 15 39", 
        "sending a random connect job"
       ]
      }, 
      {
       "output_type": "stream", 
       "stream": "stdout", 
       "text": [
        " 15 7", 
        "sending a random connect job 10 35", 
        "sending a random connect job 23 38", 
        "sending a random connect job 8 10"
       ]
      }
     ], 
     "prompt_number": 11
    }, 
    {
     "cell_type": "markdown", 
     "source": [
      "now that we have a database with minima and transition states we can build the disconnectivity graph"
     ]
    }, 
    {
     "cell_type": "markdown", 
     "source": [
      "print some information about the database"
     ]
    }, 
    {
     "cell_type": "code", 
     "collapsed": false, 
     "input": [
      "print \"number of minima\", db.number_of_minima()", 
      "print \"number of transition states\", db.number_of_transition_states()"
     ], 
     "language": "python", 
     "outputs": [
      {
       "output_type": "stream", 
       "stream": "stdout", 
       "text": [
        "number of minima 45", 
        "number of transition states 56"
       ]
      }
     ], 
     "prompt_number": 17
    }, 
    {
     "cell_type": "code", 
     "collapsed": false, 
     "input": [
      "graph = database2graph(db)", 
      "dgraph = DisconnectivityGraph(graph)", 
      "dgraph.calculate()", 
      "dgraph.plot()", 
      "import matplotlib.pyplot as plt", 
      "plt.show()"
     ], 
     "language": "python", 
     "outputs": [
      {
       "output_type": "display_data", 
       "png": "[encoded data removed]"
      }
     ], 
     "prompt_number": 18
    }, 
    {
     "cell_type": "code", 
     "collapsed": true, 
     "input": [], 
     "language": "python", 
     "outputs": [], 
     "prompt_number": "&nbsp;"
    }
   ]
  }
 ]
}